{
 "cells": [
  {
   "cell_type": "code",
   "execution_count": 1,
   "id": "cceb40ca-f9d9-4c7b-a821-7b5873557e40",
   "metadata": {},
   "outputs": [],
   "source": [
    "from IPython.display import display\n",
    "import pandas as pd\n",
    "import pickle"
   ]
  },
  {
   "cell_type": "markdown",
   "id": "9dd37fc9-d87a-4173-9a54-eb260053c3e4",
   "metadata": {
    "tags": []
   },
   "source": [
    "# stacked model"
   ]
  },
  {
   "cell_type": "code",
   "execution_count": 4,
   "id": "99a6d4dc-8d00-4dbf-843f-dc85e6e2b4ea",
   "metadata": {},
   "outputs": [],
   "source": [
    "path_input_y = ''\n",
    "path_input = ''\n",
    "path_output = ''"
   ]
  },
  {
   "cell_type": "code",
   "execution_count": null,
   "id": "04868fe7-7790-4ab6-8cf3-d724fc87bf96",
   "metadata": {},
   "outputs": [],
   "source": [
    "#layer1: single modality predictions\n",
    "for fir_reg in ['svr','rf','xgb','eNet']:\n",
    "    \n",
    "    with open(path_input+fir_reg+'_layer1_output.pkl', 'rb') as f:\n",
    "        dic = pickle.load(f)\n",
    "\n",
    "    tb = {}\n",
    "    for fold in ['Fold_0','Fold_1','Fold_2','Fold_3','Fold_4','Fold_5','Fold_6','Fold_7']:\n",
    "        tb[fold] = pd.read_csv(path_input_y+fold+'/target_y_'+'test.csv', index_col=0, header=None)\n",
    "        tb[fold].columns = ['y_true']\n",
    "        tb[fold]['fold'] = fold[-1]\n",
    "        \n",
    "        for show_set in ['wm', 'lan', 'rel', 'mot', 'emo', 'soc', 'gam', 'rest-pca75', 'surf', 'VolBrain', 'subc', 'cort']:\n",
    "            tb[fold][show_set] = dic[show_set]['test_pred'][fold]\n",
    "            \n",
    "    tb_all = tb['Fold_0']\n",
    "    for fold in ['Fold_1','Fold_2','Fold_3','Fold_4','Fold_5','Fold_6','Fold_7']:\n",
    "        tb_all = pd.merge(tb_all, tb[fold], how='outer')\n",
    "    print('\\n',fir_reg)\n",
    "    display(tb_all)        \n",
    "    \n",
    "    tb_all.to_csv(path_output+'tables_'+fir_reg+'_test.csv')\n"
   ]
  },
  {
   "cell_type": "code",
   "execution_count": null,
   "id": "a8bdd1b0-8057-42b7-94ee-6659e6e73768",
   "metadata": {},
   "outputs": [],
   "source": [
    "#layer2: stacked model predictions\n",
    "for fir_reg in ['svr','rf','xgb','eNet']:\n",
    "    for sec_reg in ['svr','rf','xgb','eNet']:\n",
    "                \n",
    "        tb = {}\n",
    "        for fold in ['Fold_0','Fold_1','Fold_2','Fold_3','Fold_4','Fold_5','Fold_6','Fold_7']:\n",
    "            tb[fold] = pd.read_csv(path_input_y+fold+'/target_y_'+'test.csv', index_col=0, header=None)\n",
    "            tb[fold].columns = ['y_true']\n",
    "            tb[fold]['fold'] = fold[-1]\n",
    "                     \n",
    "            for show_set in ['all','task','non-task','top-task']:\n",
    "                with open(path_input+'layer2_'+show_set+'_'+fir_reg+'_'+sec_reg+'.pkl', 'rb') as f:\n",
    "                    dic = pickle.load(f) \n",
    "                tb[fold][show_set] = dic['test_pred'][fold]\n",
    "       \n",
    "        tb_all = tb['Fold_0']\n",
    "        for fold in ['Fold_1','Fold_2','Fold_3','Fold_4','Fold_5','Fold_6','Fold_7']:\n",
    "            tb_all = pd.merge(tb_all, tb[fold], how='outer')\n",
    "        display(tb_all)    \n",
    "        \n",
    "        tb_all.to_csv(path_output+'tables_'+fir_reg+'+'+sec_reg+'_test.csv')\n",
    "        "
   ]
  },
  {
   "cell_type": "markdown",
   "id": "8a26e04d",
   "metadata": {},
   "source": [
    "# reliability test"
   ]
  },
  {
   "cell_type": "code",
   "execution_count": null,
   "id": "a0732be4-a885-460a-9f5f-76abec4856cd",
   "metadata": {},
   "outputs": [],
   "source": [
    "path_input_y = ''\n",
    "path_output = ''"
   ]
  },
  {
   "cell_type": "code",
   "execution_count": null,
   "id": "d6174ef8",
   "metadata": {},
   "outputs": [],
   "source": [
    "timepoint = 1\n",
    "\n",
    "#layer1:single modality\n",
    "tb = pd.read_csv(path_input_y+'target_y_test'+str(timepoint)+'.csv', index_col=0, header=None)\n",
    "tb.columns = ['y_true']\n",
    "\n",
    "with open(path_input+'retest_layer1_output.pkl', 'rb') as f:\n",
    "    data = pickle.load(f)\n",
    "    \n",
    "for fir_reg in ['svr','rf','xgb', 'eNet']:\n",
    "        for show_set in ['wm', 'lan', 'rel', 'mot', 'emo', 'soc', 'gam', 'rest-pca75', 'surf', 'VolBrain', 'subc', 'cort']:\n",
    "            tb[show_set] = data[fir_reg][show_set]['test'+str(timepoint)+'_pred']\n",
    "        tb.to_csv(path_output+'tables_'+fir_reg+'_test'+str(timepoint)+'.csv')\n",
    "\n",
    "#Layer2: stacked model \n",
    "tb = pd.read_csv(path_input_y+'target_y_test'+str(timepoint)+'.csv', index_col=0, header=None)\n",
    "tb.columns = ['y_true']\n",
    "\n",
    "with open(path_input+'retest_layer2_output.pkl', 'rb') as f:\n",
    "    data = pickle.load(f)\n",
    "\n",
    "for fir_reg in ['svr','rf','xgb', 'eNet']:\n",
    "    for sec_reg in ['svr','rf','xgb', 'eNet']:\n",
    "        for show_set in ['all', 'task', 'non-task', 'top-task']:\n",
    "            tb[show_set] = data[fir_reg][sec_reg][show_set]['pred_test'+str(timepoint)]\n",
    "        tb.to_csv(path_output+'tables_'+fir_reg+'+'+sec_reg+'_test'+str(timepoint)+'.csv')"
   ]
  },
  {
   "cell_type": "markdown",
   "id": "3b583e3a",
   "metadata": {},
   "source": [
    "# flat model"
   ]
  },
  {
   "cell_type": "code",
   "execution_count": null,
   "id": "0e806b0e",
   "metadata": {},
   "outputs": [],
   "source": [
    "path_input_y = ''\n",
    "path_input = ''\n",
    "path_output = ''"
   ]
  },
  {
   "cell_type": "code",
   "execution_count": null,
   "id": "bbfbcac6",
   "metadata": {},
   "outputs": [],
   "source": [
    "for stacked_moda in ['all', 'task', 'top-task','non-task']:\n",
    "    print('\\n\\n-------{}--------\\n'.format(stacked_moda))\n",
    "    for fir_reg in ['svr','rf','xgb','eNet']:\n",
    "        print(fir_reg)\n",
    "        with open(path_input+fir_reg+'-'+stacked_moda+'_flat_output.pkl', 'rb') as f:\n",
    "            dic = pickle.load(f)\n",
    "\n",
    "        tb = {}\n",
    "        for fold in ['Fold_0','Fold_1','Fold_2','Fold_3','Fold_4','Fold_5','Fold_6','Fold_7']:\n",
    "            tb[fold] = pd.read_csv(path_input_y+fold+'/target_y_test.csv', index_col=0, header=None)\n",
    "            tb[fold].columns = ['y_true']\n",
    "            tb[fold]['test_pred'] = dic['test_pred'][fold]\n",
    "\n",
    "        tb_all = tb['Fold_0']\n",
    "        for fold in ['Fold_1','Fold_2','Fold_3','Fold_4','Fold_5','Fold_6','Fold_7']:\n",
    "            tb_all = pd.merge(tb_all, tb[fold], how='outer')\n",
    "\n",
    "        display(tb_all)        \n",
    "        tb_all.to_csv(path_output+'tables_'+fir_reg+'_'+stacked_moda+'.csv')"
   ]
  },
  {
   "cell_type": "markdown",
   "id": "f3278fe6",
   "metadata": {},
   "source": []
  }
 ],
 "metadata": {
  "kernelspec": {
   "display_name": "Python 3.8.2 (gimkl-2020a)",
   "language": "python",
   "name": "python382-gimkl-2020a"
  },
  "language_info": {
   "codemirror_mode": {
    "name": "ipython",
    "version": 3
   },
   "file_extension": ".py",
   "mimetype": "text/x-python",
   "name": "python",
   "nbconvert_exporter": "python",
   "pygments_lexer": "ipython3",
   "version": "3.8.2"
  }
 },
 "nbformat": 4,
 "nbformat_minor": 5
}
