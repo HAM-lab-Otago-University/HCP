{
 "cells": [
  {
   "cell_type": "code",
   "execution_count": 1,
   "id": "0d346aad-9752-41d4-882e-c88e9a100d2f",
   "metadata": {},
   "outputs": [],
   "source": [
    "from IPython.display import display\n",
    "import numpy as np\n",
    "import pandas as pd\n",
    "import os\n",
    "import pickle\n",
    "from pathlib import Path\n",
    "from sklearn.linear_model import ElasticNet"
   ]
  },
  {
   "cell_type": "markdown",
   "id": "e7e96a82-fa45-4767-b313-75556b434150",
   "metadata": {
    "jp-MarkdownHeadingCollapsed": true,
    "tags": []
   },
   "source": [
    "# stacked model"
   ]
  },
  {
   "cell_type": "code",
   "execution_count": 5,
   "id": "13367da8-a273-47c6-ae53-13b298db2803",
   "metadata": {},
   "outputs": [],
   "source": [
    "##############################\n",
    "use_reg = 'eNet'\n",
    "\n",
    "use_sd_files = True\n",
    "path_input = ''\n",
    "path_input_para = ''\n",
    "path_output = ''\n",
    "\n",
    "Path(path_output).mkdir(parents=True, exist_ok=True)\n",
    "\n",
    "## load data -layer1 ############################\n",
    "target={} #dict for target\n",
    "features={} #dict for features\n",
    "\n",
    "add_suffix = lambda x: '_std.csv' if use_sd_files else '.csv'\n",
    "\n",
    "for fold in sorted(os.listdir(path_input)):\n",
    "    if 'Fold' not in fold:\n",
    "        continue\n",
    "    target[fold] = {}\n",
    "    features[fold] = {}\n",
    "    features[fold]['train1']={}\n",
    "    features[fold]['train2']={}\n",
    "    features[fold]['test']={}\n",
    "    \n",
    "    for sett in ['train1','train2','test']:\n",
    "        target[fold][sett] = pd.read_csv(path_input+fold+'/target_y_'+sett+'.csv', index_col=0, header=None)\n",
    "    \n",
    "    for mod in ['wm', 'lan', 'rel', 'mot', 'emo', 'soc', 'gam', 'rest-pca75', 'surf', 'VolBrain', 'subc', 'cort']:\n",
    "        for sett in ['train1','train2','test']:\n",
    "            filename = path_input+fold+'/'+mod+'_'+sett+add_suffix(use_sd_files)\n",
    "            features[fold][sett][mod] =  pd.read_csv(filename, index_col=0)"
   ]
  },
  {
   "cell_type": "code",
   "execution_count": null,
   "id": "0da314c3-5df0-4ac0-a257-1e51766fc2ee",
   "metadata": {},
   "outputs": [],
   "source": [
    "#load layer1 para and train\n",
    "fir_reg ='eNet'\n",
    "with open(path_input_para+fir_reg+'_layer1_output.pkl', 'rb') as f:\n",
    "    dic = pickle.load(f)\n",
    "\n",
    "for mod in ['wm', 'lan', 'rest-pca75', 'rel', 'mot', 'emo', 'soc', 'surf', 'VolBrain', 'subc', 'cort', 'gam']:\n",
    "    coef = pd.DataFrame()\n",
    "    for fold in ['Fold_0', 'Fold_1', 'Fold_2', 'Fold_3', 'Fold_4', 'Fold_5', 'Fold_6', 'Fold_7']:\n",
    "        X_train = features[fold]['train1'][mod]\n",
    "        y_train = target[fold]['train1']\n",
    "        reg = ElasticNet(alpha=dic[mod]['best_para'][fold]['alpha'],l1_ratio=dic[mod]['best_para'][fold]['l1_ratio'],max_iter=dic[mod]['best_para'][fold]['max_iter'])\n",
    "        reg.fit(X_train,y_train)\n",
    "        coef[fold] = reg.coef_\n",
    "    display(coef)\n",
    "    coef.to_csv(path_output+'coef_'+mod+'.csv')"
   ]
  },
  {
   "cell_type": "code",
   "execution_count": null,
   "id": "33f1249b-945f-48bc-8306-4176bb3f88c5",
   "metadata": {},
   "outputs": [],
   "source": [
    "#layer2 coef\n",
    "with open(path_input_para+'eNet_layer1_output.pkl', 'rb') as f:\n",
    "    data = pickle.load(f)\n",
    "        \n",
    "for stacked_moda in ['all','task','non-task','top-task']:\n",
    "    if stacked_moda == 'all':\n",
    "        use_moda = ['wm', 'lan', 'rest-pca75', 'rel', 'mot', 'emo', 'soc', 'surf', 'VolBrain', 'subc', 'cort', 'gam']\n",
    "    elif stacked_moda == 'task':\n",
    "        use_moda = ['wm', 'lan', 'rel', 'mot', 'emo', 'soc', 'gam']\n",
    "    elif stacked_moda == 'non-task':\n",
    "        use_moda = ['rest-pca75','surf', 'VolBrain', 'subc', 'cort']  \n",
    "    elif stacked_moda == 'top-task':\n",
    "        use_moda = ['wm', 'lan', 'rel']\n",
    "     \n",
    "    with open(path_input_para+'layer2_'+stacked_moda+'_'+'eNet_eNet.pkl', 'rb') as f:\n",
    "        dic = pickle.load(f)\n",
    "    \n",
    "    coef = pd.DataFrame(index=use_moda)\n",
    "    for fold in ['Fold_0', 'Fold_1', 'Fold_2', 'Fold_3', 'Fold_4', 'Fold_5', 'Fold_6', 'Fold_7']:\n",
    "        y_train = pd.read_csv( path_input+fold+'/target_y_train2.csv', index_col=0, header=None).values[:,0]\n",
    "        X_train = data[use_moda[0]]['train2_pred'][fold].reshape(-1,1)       \n",
    "        for moda in use_moda[1:]:   \n",
    "            X_train =  np.hstack((X_train, data[moda]['train2_pred'][fold].reshape(-1,1)))    \n",
    "        reg = ElasticNet(alpha=dic['best_para'][fold]['alpha'],l1_ratio=dic['best_para'][fold]['l1_ratio'],max_iter=dic['best_para'][fold]['max_iter'])\n",
    "        reg.fit(X_train,y_train)\n",
    "        coef[fold] = reg.coef_\n",
    "    coef.to_csv(path_output+'coef_'+stacked_moda+'.csv')\n"
   ]
  },
  {
   "cell_type": "markdown",
   "id": "7156373c-c93b-4ddd-8e83-ffb82f133d4e",
   "metadata": {
    "jp-MarkdownHeadingCollapsed": true,
    "tags": []
   },
   "source": [
    "# reliability test"
   ]
  },
  {
   "cell_type": "code",
   "execution_count": 8,
   "id": "52d0cd70-3751-4c9a-8ca2-dd6ef8dd714c",
   "metadata": {},
   "outputs": [],
   "source": [
    "path_input = ''\n",
    "path_input_para = ''\n",
    "path_output = ''"
   ]
  },
  {
   "cell_type": "code",
   "execution_count": null,
   "id": "1ab58874-2d28-4804-84ef-2a89b1d69abe",
   "metadata": {},
   "outputs": [],
   "source": [
    "#load layer1 input data\n",
    "target={}\n",
    "features={} \n",
    "for sett in ['train1','train2','test1','test2']:\n",
    "    target[sett] = pd.read_csv(path_input+'target_y_'+sett+'.csv', index_col=0, header=None)\n",
    "for mod in ['wm', 'lan', 'rel', 'mot', 'emo', 'soc', 'gam', 'rest-pca75', 'surf', 'VolBrain', 'subc', 'cort']:\n",
    "    features[mod] = {}\n",
    "    for sett in ['train1','train2','test1','test2']:\n",
    "        features[mod][sett] =  pd.read_csv(path_input+mod+'_'+sett+add_suffix(use_sd_files), index_col=0)\n",
    "\n",
    "#load layer1 para\n",
    "with open(path_input_para+'retest_layer1_output.pkl', 'rb') as f:\n",
    "    dic = pickle.load(f)\n",
    "        \n",
    "for moda in ['wm', 'lan', 'rest-pca75', 'rel', 'mot', 'emo', 'soc', 'surf', 'VolBrain', 'subc', 'cort', 'gam']:    \n",
    "    y_train = target['train1'].values[:,0]\n",
    "    X_train = features[moda]['train1']\n",
    "    \n",
    "    coef = pd.DataFrame()\n",
    "    reg = ElasticNet(alpha=dic['eNet'][moda]['best_para']['alpha'],l1_ratio=dic['eNet'][moda]['best_para']['l1_ratio'],max_iter=dic['eNet'][moda]['best_para']['max_iter'])\n",
    "    reg.fit(X_train,y_train)\n",
    "    coef['coef'] = reg.coef_\n",
    "    \n",
    "    display(coef)\n",
    "    coef.to_csv(path_output+'coef_'+moda+'.csv')\n",
    "    "
   ]
  },
  {
   "cell_type": "code",
   "execution_count": null,
   "id": "ee69d427-4ad1-4bb7-b626-9045ed3d5653",
   "metadata": {},
   "outputs": [],
   "source": [
    "#load layer2 input data\n",
    "with open(path_input_para+'retest_layer1_output.pkl', 'rb') as f:\n",
    "    data = pickle.load(f)\n",
    "y_train = pd.read_csv(path_input+'target_y_train2.csv', index_col=0, header=None)\n",
    "\n",
    "#load layer2 para\n",
    "with open(path_input_para+'retest_layer2_output.pkl', 'rb') as f:\n",
    "    dic = pickle.load(f)\n",
    "    \n",
    "for stacked_moda in ['all', 'task', 'non-task', 'top-task']:\n",
    "    if stacked_moda == 'all':\n",
    "        use_moda = ['wm', 'lan', 'rest-pca75', 'rel', 'mot', 'emo', 'soc', 'surf', 'VolBrain', 'subc', 'cort', 'gam']\n",
    "    elif stacked_moda == 'task':\n",
    "        use_moda = ['wm', 'lan', 'rel', 'mot', 'emo', 'soc', 'gam']\n",
    "    elif stacked_moda == 'non-task':\n",
    "        use_moda = ['rest-pca75','surf', 'VolBrain', 'subc', 'cort']  \n",
    "    elif stacked_moda == 'top-task':\n",
    "        use_moda = ['wm', 'lan', 'rel']\n",
    "            \n",
    "    X_train = data['eNet'][use_moda[0]]['train2_pred'].reshape(-1,1)    \n",
    "    for moda in use_moda[1:]:   \n",
    "        X_train =  np.hstack((X_train, data['eNet'][moda]['train2_pred'].reshape(-1,1)))\n",
    "        \n",
    "    coef = pd.DataFrame(index=use_moda)\n",
    "    reg = ElasticNet(alpha=dic['eNet']['eNet'][stacked_moda]['best_para']['alpha'],l1_ratio=dic['eNet']['eNet'][stacked_moda]['best_para']['l1_ratio'],max_iter=dic['eNet']['eNet'][stacked_moda]['best_para']['max_iter'])\n",
    "    reg.fit(X_train,y_train)\n",
    "    coef['coef'] = reg.coef_\n",
    "    display(coef)\n",
    "    coef.to_csv(path_output+'coef_'+stacked_moda+'.csv')"
   ]
  },
  {
   "cell_type": "markdown",
   "id": "ffa65376-961d-437d-ac43-3165539776ed",
   "metadata": {
    "tags": []
   },
   "source": [
    "# flat model"
   ]
  },
  {
   "cell_type": "code",
   "execution_count": 2,
   "id": "f51f92ae-c8b1-45ed-bca2-30877817d0d4",
   "metadata": {},
   "outputs": [],
   "source": [
    "path_input_para = ''\n",
    "path_input_test = ''\n",
    "path_input_train = ''\n",
    "path_output = ''"
   ]
  },
  {
   "cell_type": "code",
   "execution_count": 3,
   "id": "c329e96a-fdd3-4715-be78-3004ef7c986d",
   "metadata": {},
   "outputs": [],
   "source": [
    "## load data ############################\n",
    "use_reg = 'eNet'\n",
    "use_sd_files = True\n",
    "\n",
    "target={} #dict for target\n",
    "features={} #dict for features\n",
    "\n",
    "add_suffix = lambda x: '_std.csv' if True else '.csv'\n",
    "\n",
    "for fold in ['Fold_0', 'Fold_1', 'Fold_2', 'Fold_3', 'Fold_4', 'Fold_5', 'Fold_6', 'Fold_7']:\n",
    "    target[fold] = {}\n",
    "    features[fold] = {}\n",
    "    features[fold]['train']={}\n",
    "    features[fold]['test']={}\n",
    "    \n",
    "    \n",
    "    target[fold]['train'] = pd.read_csv(path_input_train+fold+'/target_y_trainFlat.csv', index_col=0, header=None)\n",
    "    target[fold]['test'] = pd.read_csv(path_input_test+fold+'/target_y_test.csv', index_col=0, header=None)\n",
    "    \n",
    "    for mod in ['wm', 'lan', 'rel', 'mot', 'emo', 'soc', 'gam', 'rest-pca75', 'surf', 'VolBrain', 'subc', 'cort']:\n",
    "        features[fold]['train'][mod] =  pd.read_csv(path_input_train+fold+'/'+mod+'_trainFlat'+add_suffix(use_sd_files), index_col=0)\n",
    "        features[fold]['test'][mod] =  pd.read_csv(path_input_test+fold+'/'+mod+'_test'+add_suffix(use_sd_files), index_col=0)"
   ]
  },
  {
   "cell_type": "code",
   "execution_count": null,
   "id": "bc53cdf3-66dd-406d-8541-c247568a96b5",
   "metadata": {},
   "outputs": [],
   "source": [
    "fir_reg ='eNet'\n",
    "\n",
    "for stacked_moda in ['all','task', 'non-task', 'top-task']:\n",
    "    if stacked_moda == 'all':\n",
    "        use_moda = ['wm', 'lan', 'rest-pca75', 'rel', 'mot', 'emo', 'soc', 'surf', 'VolBrain', 'subc', 'cort', 'gam']\n",
    "    elif stacked_moda == 'task':\n",
    "        use_moda = ['wm', 'lan', 'rel', 'mot', 'emo', 'soc', 'gam']\n",
    "    elif stacked_moda == 'non-task':\n",
    "        use_moda = ['rest-pca75','surf', 'VolBrain', 'subc', 'cort']  \n",
    "    elif stacked_moda == 'top-task':\n",
    "        use_moda = ['wm', 'lan', 'rel']\n",
    "    print('\\n-- stacked_moda:',stacked_moda,'--')\n",
    "    \n",
    "    colnames = []\n",
    "    for mod in use_moda:\n",
    "        s = mod+'-'+features['Fold_0']['test'][mod].columns.values\n",
    "        colnames = colnames + s.tolist()\n",
    "        \n",
    "        \n",
    "    #load para and train\n",
    "    #############################################################\n",
    "    with open(path_input_para+fir_reg+'-'+stacked_moda+'_flat_output.pkl', 'rb') as f:\n",
    "        dic = pickle.load(f)\n",
    "\n",
    "    coef = pd.DataFrame(columns=colnames,dtype=object)\n",
    "    for fold in ['Fold_0', 'Fold_1', 'Fold_2', 'Fold_3', 'Fold_4', 'Fold_5', 'Fold_6', 'Fold_7']:\n",
    "        #print('\\n\\n  -----',fold,'-----')\n",
    "        y_train = target[fold]['train'].values[:,0]\n",
    "        y_test = target[fold]['test'].values[:,0]\n",
    "\n",
    "        for moda in use_moda:        \n",
    "                X_train = features[fold]['train'][moda]\n",
    "                if moda==use_moda[0]:\n",
    "                    X_train_f = X_train.copy()\n",
    "                else:\n",
    "                    X_train_f = np.hstack((X_train_f,X_train))\n",
    "\n",
    "        reg = ElasticNet(alpha=dic['best_para'][fold]['alpha'],l1_ratio=dic['best_para'][fold]['l1_ratio'],max_iter=dic['best_para'][fold]['max_iter'])\n",
    "        reg.fit(X_train_f,y_train)\n",
    "        coef.loc[fold] = reg.coef_\n",
    "\n",
    "    display(coef)\n",
    "    coef.to_csv(path_output+'coef_'+stacked_moda+'.csv')"
   ]
  },
  {
   "cell_type": "code",
   "execution_count": null,
   "id": "b4d32edf-e02d-4efb-b25f-7e07e22c1b92",
   "metadata": {},
   "outputs": [],
   "source": []
  }
 ],
 "metadata": {
  "kernelspec": {
   "display_name": "Python 3.8.2 (gimkl-2020a)",
   "language": "python",
   "name": "python382-gimkl-2020a"
  },
  "language_info": {
   "codemirror_mode": {
    "name": "ipython",
    "version": 3
   },
   "file_extension": ".py",
   "mimetype": "text/x-python",
   "name": "python",
   "nbconvert_exporter": "python",
   "pygments_lexer": "ipython3",
   "version": "3.8.2"
  }
 },
 "nbformat": 4,
 "nbformat_minor": 5
}
